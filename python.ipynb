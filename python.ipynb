{
  "nbformat": 4,
  "nbformat_minor": 0,
  "metadata": {
    "colab": {
      "provenance": [],
      "authorship_tag": "ABX9TyNZv1PO7UayQMh2EbUW7Bss",
      "include_colab_link": true
    },
    "kernelspec": {
      "name": "python3",
      "display_name": "Python 3"
    },
    "language_info": {
      "name": "python"
    }
  },
  "cells": [
    {
      "cell_type": "markdown",
      "metadata": {
        "id": "view-in-github",
        "colab_type": "text"
      },
      "source": [
        "<a href=\"https://colab.research.google.com/github/Simranpatel15/python/blob/main/python.ipynb\" target=\"_parent\"><img src=\"https://colab.research.google.com/assets/colab-badge.svg\" alt=\"Open In Colab\"/></a>"
      ]
    },
    {
      "cell_type": "code",
      "execution_count": null,
      "metadata": {
        "colab": {
          "base_uri": "https://localhost:8080/"
        },
        "id": "t6p6vASM2W1S",
        "outputId": "31a045ed-35d9-4471-c48d-69d6b855fbf2"
      },
      "outputs": [
        {
          "output_type": "stream",
          "name": "stdout",
          "text": [
            "<class 'bool'>\n",
            "<class 'NoneType'>\n"
          ]
        }
      ],
      "source": [
        "age=18\n",
        "old=False\n",
        "a=None\n",
        "print(type(old))\n",
        "print(type(a))\n"
      ]
    },
    {
      "cell_type": "code",
      "source": [
        "a=8    #sum of 2 num\n",
        "b=8.78\n",
        "print(a+b)\n",
        "x='2'      #expilict type casting string to int\n",
        "z=int(x)\n",
        "y=4\n",
        "print(z+y)"
      ],
      "metadata": {
        "colab": {
          "base_uri": "https://localhost:8080/"
        },
        "id": "jOzQwSqW9S1W",
        "outputId": "3b940fe1-9d41-47b3-f39f-7c76ad0b6bc1"
      },
      "execution_count": null,
      "outputs": [
        {
          "output_type": "stream",
          "name": "stdout",
          "text": [
            "16.78\n",
            "6\n"
          ]
        }
      ]
    },
    {
      "cell_type": "code",
      "source": [
        "input(\"enter ur name\")"
      ],
      "metadata": {
        "colab": {
          "base_uri": "https://localhost:8080/",
          "height": 53
        },
        "id": "Bv2TvUMl-5Ew",
        "outputId": "a79e781f-59b2-45eb-892b-f8fe0f861ba7"
      },
      "execution_count": null,
      "outputs": [
        {
          "name": "stdout",
          "output_type": "stream",
          "text": [
            "enter ur namesimran\n"
          ]
        },
        {
          "output_type": "execute_result",
          "data": {
            "text/plain": [
              "'simran'"
            ],
            "application/vnd.google.colaboratory.intrinsic+json": {
              "type": "string"
            }
          },
          "metadata": {},
          "execution_count": 12
        }
      ]
    },
    {
      "cell_type": "code",
      "source": [
        "x=int(input(\"enter the num\"))            #input\n",
        "y=int(input(\"enter the num\"))\n",
        "print(\"sum\",x+y)\n",
        "\n"
      ],
      "metadata": {
        "colab": {
          "base_uri": "https://localhost:8080/"
        },
        "id": "-qKWrTHvAAM1",
        "outputId": "969f653f-4968-4f9f-e289-dfde8bed9621"
      },
      "execution_count": null,
      "outputs": [
        {
          "output_type": "stream",
          "name": "stdout",
          "text": [
            "enter the num5\n",
            "enter the num6\n",
            "sum 11\n"
          ]
        }
      ]
    },
    {
      "cell_type": "code",
      "source": [
        "x=float(input(\"enter the num\"))        #avg of 2 num\n",
        "y=float(input(\"enter the num\"))\n",
        "print(\"average\",(x+y)/2)\n"
      ],
      "metadata": {
        "colab": {
          "base_uri": "https://localhost:8080/"
        },
        "id": "YnIJyokACjOz",
        "outputId": "ea14d161-1d88-4fc8-c745-4dcc27c8b633"
      },
      "execution_count": null,
      "outputs": [
        {
          "output_type": "stream",
          "name": "stdout",
          "text": [
            "enter the num5.6\n",
            "enter the num6.5\n",
            "average 6.05\n"
          ]
        }
      ]
    },
    {
      "cell_type": "code",
      "source": [
        "a=\"sim\"                            #concatenation\n",
        "b=\"ran\"\n",
        "print(a+b)"
      ],
      "metadata": {
        "colab": {
          "base_uri": "https://localhost:8080/"
        },
        "id": "Wk9gnkqdGBz-",
        "outputId": "3085339d-fbfb-4c7a-938b-f15b90301136"
      },
      "execution_count": null,
      "outputs": [
        {
          "output_type": "stream",
          "name": "stdout",
          "text": [
            "simran\n"
          ]
        }
      ]
    },
    {
      "cell_type": "code",
      "source": [
        "x=int(input(\"enter the side\"))\n",
        "print(\"area=\",x*x)"
      ],
      "metadata": {
        "colab": {
          "base_uri": "https://localhost:8080/"
        },
        "id": "S1XoD2tsBein",
        "outputId": "2c83d822-c4d9-4557-b6b0-6a8a3395f40a"
      },
      "execution_count": null,
      "outputs": [
        {
          "output_type": "stream",
          "name": "stdout",
          "text": [
            "enter the side5\n",
            "area= 25\n"
          ]
        }
      ]
    },
    {
      "cell_type": "code",
      "source": [
        "a=\"simran\"                        #length of string\n",
        "b=len(a)\n",
        "print(b)"
      ],
      "metadata": {
        "colab": {
          "base_uri": "https://localhost:8080/"
        },
        "id": "EcpAOZWbGNcU",
        "outputId": "876ba3e5-7f28-4d70-b89e-81b73f5d335d"
      },
      "execution_count": null,
      "outputs": [
        {
          "output_type": "stream",
          "name": "stdout",
          "text": [
            "6\n"
          ]
        }
      ]
    },
    {
      "cell_type": "code",
      "source": [
        "str='simran'\n",
        "ch=str[0]\n",
        "print(ch)"
      ],
      "metadata": {
        "colab": {
          "base_uri": "https://localhost:8080/"
        },
        "id": "vq2zufdyHIDG",
        "outputId": "d84d59cc-446d-496d-b32d-3139e7d12b79"
      },
      "execution_count": null,
      "outputs": [
        {
          "output_type": "stream",
          "name": "stdout",
          "text": [
            "s\n"
          ]
        }
      ]
    },
    {
      "cell_type": "code",
      "source": [
        "str='simran patel'\n",
        "str[1:4]"
      ],
      "metadata": {
        "id": "YdAwX8clJOvE",
        "outputId": "76e28b67-fad4-4f7a-dc44-5c1fad690fa7",
        "colab": {
          "base_uri": "https://localhost:8080/",
          "height": 36
        }
      },
      "execution_count": null,
      "outputs": [
        {
          "output_type": "execute_result",
          "data": {
            "text/plain": [
              "'imr'"
            ],
            "application/vnd.google.colaboratory.intrinsic+json": {
              "type": "string"
            }
          },
          "metadata": {},
          "execution_count": 25
        }
      ]
    },
    {
      "cell_type": "code",
      "source": [
        "str='i am simran'\n",
        "print(str.endswith('an'))\n",
        "print(str.capitalize())\n",
        "print(str.replace('a','o'))\n",
        "print(str.find('a'))\n",
        "print(str.find('o'))\n",
        "print(str.count('a'))"
      ],
      "metadata": {
        "colab": {
          "base_uri": "https://localhost:8080/"
        },
        "id": "yvqkP3kOM8OS",
        "outputId": "19e5b275-3e9b-4c1d-bd80-83e98d94ffe4"
      },
      "execution_count": null,
      "outputs": [
        {
          "output_type": "stream",
          "name": "stdout",
          "text": [
            "True\n",
            "I am simran\n",
            "i om simron\n",
            "2\n",
            "-1\n",
            "2\n"
          ]
        }
      ]
    },
    {
      "cell_type": "code",
      "source": [
        "a=input(\"your name\")\n",
        "print(len(a))"
      ],
      "metadata": {
        "colab": {
          "base_uri": "https://localhost:8080/"
        },
        "id": "BFnMvkoSRyoj",
        "outputId": "bdcfe589-9451-4689-d60d-830d40eea9c1"
      },
      "execution_count": null,
      "outputs": [
        {
          "output_type": "stream",
          "name": "stdout",
          "text": [
            "your namesimran\n",
            "6\n"
          ]
        }
      ]
    },
    {
      "cell_type": "code",
      "source": [
        "marks=int(input(\"marks of student\"))\n",
        "if(marks>90):\n",
        "  grade=\"A\"\n",
        "elif(marks>80 and marks<=90 ):\n",
        "  grade=\"B\"\n",
        "elif(marks>70 and marks<=80 ):\n",
        "   grade=\"C\"\n",
        "elif(marks>60 and marks<=70):\n",
        "   grade=\"D\"\n",
        "elif(marks>50 and marks<=60 ):\n",
        "   grade=\"E\"\n",
        "elif(marks>40 and marks<=50 ):\n",
        "   grade=\"F\"\n",
        "elif(marks>30 and marks<=40 ):\n",
        "    grade=\"G\"\n",
        "else:\n",
        "   grade=\"fail\"\n",
        "\n",
        "print(grade)"
      ],
      "metadata": {
        "colab": {
          "base_uri": "https://localhost:8080/"
        },
        "id": "FnreXJtZosBO",
        "outputId": "ad82b85c-a81d-43f1-a0fe-70ade31cf5d7"
      },
      "execution_count": null,
      "outputs": [
        {
          "output_type": "stream",
          "name": "stdout",
          "text": [
            "marks of student40\n",
            "G\n"
          ]
        }
      ]
    },
    {
      "cell_type": "code",
      "source": [
        "#nesting\n",
        "age=int(input(\"enter age\"))\n",
        "if(age>=18):\n",
        " if(age>80):\n",
        "   print(\"cannot drive\")\n",
        " else:\n",
        "   print(\"can drive\")\n",
        "else:\n",
        " print(\"cannot drive\")"
      ],
      "metadata": {
        "colab": {
          "base_uri": "https://localhost:8080/"
        },
        "id": "Ipte5M5BShJ9",
        "outputId": "2bccf7a7-056c-4c56-d874-0a9bba501c13"
      },
      "execution_count": null,
      "outputs": [
        {
          "output_type": "stream",
          "name": "stdout",
          "text": [
            "enter age25\n",
            "can drive\n"
          ]
        }
      ]
    },
    {
      "cell_type": "code",
      "source": [
        "num=int(input(\"enter the number\"))\n",
        "if(num%2==0):\n",
        "  print(\"number is even\")\n",
        "else:\n",
        "  print(\"number is odd\")"
      ],
      "metadata": {
        "colab": {
          "base_uri": "https://localhost:8080/"
        },
        "id": "ATUijiFVTVpf",
        "outputId": "6bab2018-1945-4ebe-902b-c338cf5c7eea"
      },
      "execution_count": null,
      "outputs": [
        {
          "output_type": "stream",
          "name": "stdout",
          "text": [
            "enter the number25\n",
            "number is odd\n"
          ]
        }
      ]
    },
    {
      "cell_type": "code",
      "source": [
        "#greatest of three number\n",
        "num1=int(input(\"enter first num\"))\n",
        "num2=int(input(\"enter second num\"))\n",
        "num3=int(input(\"enter third num\"))\n",
        "\n",
        "if(num1>num2 and num1>num3):\n",
        "  print(\"num1 is greatest\")\n",
        "el6if(num2>num1 and num2>num3):\n",
        "   print(\"num2 is greatest\")\n",
        "else:\n",
        "   print(\"num3 is greatest\")"
      ],
      "metadata": {
        "colab": {
          "base_uri": "https://localhost:8080/"
        },
        "id": "TLGmb0qZT8-7",
        "outputId": "8893528d-a619-454c-fd37-f051a00ce016"
      },
      "execution_count": null,
      "outputs": [
        {
          "output_type": "stream",
          "name": "stdout",
          "text": [
            "enter first num5\n",
            "enter second num2\n",
            "enter third num1\n",
            "num1 is greatest\n"
          ]
        }
      ]
    },
    {
      "cell_type": "code",
      "source": [
        "marks=[95,97,87,86,83]          #list\n",
        "print(marks)\n",
        "print(type(marks))\n",
        "print(len(marks))\n",
        "print(marks[3])\n",
        "marks[3]=89\n",
        "print(marks)"
      ],
      "metadata": {
        "colab": {
          "base_uri": "https://localhost:8080/"
        },
        "id": "EZJhou0eVe8v",
        "outputId": "c863ee4d-267c-42d0-9a54-5b6ddaf9cc4a"
      },
      "execution_count": null,
      "outputs": [
        {
          "output_type": "stream",
          "name": "stdout",
          "text": [
            "[95, 97, 87, 86, 83]\n",
            "<class 'list'>\n",
            "5\n",
            "86\n",
            "[95, 97, 87, 89, 83]\n"
          ]
        }
      ]
    },
    {
      "cell_type": "code",
      "source": [
        "list=[2,1,3]\n",
        "print(list.append(4))\n",
        "print(list)\n",
        "\n",
        "print(list.sort())\n",
        "print(list)\n",
        "\n",
        "print(list.sort(reverse=True))\n",
        "print(list)\n",
        "\n",
        "print(list.reverse())\n",
        "print(list)\n",
        "\n",
        "print(list.insert(2,0))\n",
        "print(list)\n",
        "\n"
      ],
      "metadata": {
        "colab": {
          "base_uri": "https://localhost:8080/"
        },
        "id": "U1EQJusn1mVA",
        "outputId": "89ba2944-7bb9-4f50-9a77-d16b60e496ee"
      },
      "execution_count": null,
      "outputs": [
        {
          "output_type": "stream",
          "name": "stdout",
          "text": [
            "None\n",
            "[2, 1, 3, 4]\n",
            "None\n",
            "[1, 2, 3, 4]\n",
            "None\n",
            "[4, 3, 2, 1]\n",
            "None\n",
            "[1, 2, 3, 4]\n",
            "None\n",
            "[1, 2, 0, 3, 4]\n"
          ]
        }
      ]
    },
    {
      "cell_type": "code",
      "source": [
        "list=[2,1,3,1]\n",
        "print(list.reverse())\n",
        "print(list)\n"
      ],
      "metadata": {
        "colab": {
          "base_uri": "https://localhost:8080/"
        },
        "id": "sE_PHFGV5T8n",
        "outputId": "93d67907-5a6c-4cd4-824f-81abf084e69f"
      },
      "execution_count": null,
      "outputs": [
        {
          "output_type": "stream",
          "name": "stdout",
          "text": [
            "None\n",
            "[1, 3, 1, 2]\n"
          ]
        }
      ]
    },
    {
      "cell_type": "code",
      "source": [
        "list=[2,3,1]\n",
        "print(list.pop(1))\n",
        "print(list)"
      ],
      "metadata": {
        "colab": {
          "base_uri": "https://localhost:8080/"
        },
        "id": "-LIcDYQl6ep4",
        "outputId": "4d8f9cf6-6048-4cfd-a392-fbb5642f0f98"
      },
      "execution_count": null,
      "outputs": [
        {
          "output_type": "stream",
          "name": "stdout",
          "text": [
            "3\n",
            "[2, 1]\n"
          ]
        }
      ]
    },
    {
      "cell_type": "code",
      "source": [
        "list=[2,1,3,1]\n",
        "print(list.remove(1))\n",
        "print(list)"
      ],
      "metadata": {
        "colab": {
          "base_uri": "https://localhost:8080/"
        },
        "id": "AhIPN0Xw6Rsw",
        "outputId": "d8e432b7-ee1f-4e2a-d50f-98da061d5a86"
      },
      "execution_count": null,
      "outputs": [
        {
          "output_type": "stream",
          "name": "stdout",
          "text": [
            "None\n",
            "[2, 3, 1]\n"
          ]
        }
      ]
    },
    {
      "cell_type": "code",
      "source": [
        "#tuple\n",
        "\n",
        "tup=(2,1,3,1)\n",
        "print(tup)\n",
        "print(type(tup))\n",
        "print(tup.index(2))\n",
        "print(tup.count(1))\n"
      ],
      "metadata": {
        "colab": {
          "base_uri": "https://localhost:8080/"
        },
        "id": "rrvjSakm6wBC",
        "outputId": "fe9adc81-d4d2-4e34-8707-16243ad0dd9b"
      },
      "execution_count": null,
      "outputs": [
        {
          "output_type": "stream",
          "name": "stdout",
          "text": [
            "(2, 1, 3, 1)\n",
            "<class 'tuple'>\n",
            "0\n",
            "2\n"
          ]
        }
      ]
    },
    {
      "cell_type": "code",
      "source": [
        "#input 3 city name and store in list\n",
        "city=[]\n",
        "city.append(input(\"1st city\"))\n",
        "city.append(input(\"2nd city\"))\n",
        "city.append(input(\"3rd city\"))\n",
        "print(city)"
      ],
      "metadata": {
        "colab": {
          "base_uri": "https://localhost:8080/"
        },
        "id": "zsfZVcCb9L5y",
        "outputId": "3d385fdd-d73c-4d09-928b-b9e56844d61e"
      },
      "execution_count": null,
      "outputs": [
        {
          "output_type": "stream",
          "name": "stdout",
          "text": [
            "1st citypatna\n",
            "2nd cityhajipur\n",
            "3rd citygaya\n",
            "['patna', 'hajipur', 'gaya']\n"
          ]
        }
      ]
    },
    {
      "cell_type": "code",
      "source": [
        "#WAP TO CHECK IF A LIST IS PALINDROME\n",
        "\n",
        "list1=[1,2,1]\n",
        "\n",
        "copy_list1=list1.copy()\n",
        "copy_list1.reverse()\n",
        "if(copy_list1==list1):\n",
        " print(\"palindrome\")\n",
        "else:\n",
        "  print(\"not palindrome\")\n",
        "\n",
        "\n",
        "list2=[1,2,3]\n",
        "\n",
        "copy_list2=list2.copy()\n",
        "copy_list2.reverse()\n",
        "if(copy_list2==list2):\n",
        " print(\"palindrome\")\n",
        "else:\n",
        "  print(\"not palindrome\")"
      ],
      "metadata": {
        "colab": {
          "base_uri": "https://localhost:8080/"
        },
        "id": "Q_HPk-tf_CxX",
        "outputId": "888da3d1-8891-4079-b42a-99f02ce9f535"
      },
      "execution_count": null,
      "outputs": [
        {
          "output_type": "stream",
          "name": "stdout",
          "text": [
            "palindrome\n",
            "not palindrome\n"
          ]
        }
      ]
    },
    {
      "cell_type": "code",
      "source": [
        "#dictionary\n",
        "\n",
        "info={\n",
        "    \"key\" : \"value\",\n",
        "    \"name\": \"simran\",\n",
        "    \"age\" : 18,\n",
        "    }\n",
        "\n",
        "print(info)\n",
        "print(info[\"key\"])\n",
        "info[\"surname\"]=\"patel\"\n",
        "print(info)\n",
        "print(info.keys())\n",
        "print(info.values())\n",
        "print(info.items())\n",
        "print(info.get(\"key\"))\n",
        "print(info[\"key\"])\n",
        "print(info.update({\"city\": \"patna\"}))\n",
        "print(info)\n",
        "\n"
      ],
      "metadata": {
        "colab": {
          "base_uri": "https://localhost:8080/"
        },
        "id": "6HR53aaHGpFQ",
        "outputId": "74091dfc-3249-43cc-dc65-cd718f97f583"
      },
      "execution_count": null,
      "outputs": [
        {
          "output_type": "stream",
          "name": "stdout",
          "text": [
            "{'key': 'value', 'name': 'simran', 'age': 18}\n",
            "value\n",
            "{'key': 'value', 'name': 'simran', 'age': 18, 'surname': 'patel'}\n",
            "dict_keys(['key', 'name', 'age', 'surname'])\n",
            "dict_values(['value', 'simran', 18, 'patel'])\n",
            "dict_items([('key', 'value'), ('name', 'simran'), ('age', 18), ('surname', 'patel')])\n",
            "value\n",
            "value\n",
            "None\n",
            "{'key': 'value', 'name': 'simran', 'age': 18, 'surname': 'patel', 'city': 'patna'}\n"
          ]
        }
      ]
    },
    {
      "cell_type": "code",
      "source": [
        "#sets\n",
        "collection={1,1,2,3,\"hii\"}\n",
        "print(collection)\n",
        "print(collection.pop())\n",
        "print(type(collection))"
      ],
      "metadata": {
        "colab": {
          "base_uri": "https://localhost:8080/"
        },
        "id": "QCsq2JrEGFh7",
        "outputId": "ef13f6d3-0d10-47b0-8385-8bfae371f5a7"
      },
      "execution_count": null,
      "outputs": [
        {
          "output_type": "stream",
          "name": "stdout",
          "text": [
            "{'hii', 2, 3, 1}\n",
            "hii\n",
            "<class 'set'>\n"
          ]
        }
      ]
    },
    {
      "cell_type": "code",
      "source": [
        "# NULL SETS\n",
        "\n",
        "num=set()\n",
        "print(num.add(1))\n",
        "print(num)\n"
      ],
      "metadata": {
        "colab": {
          "base_uri": "https://localhost:8080/"
        },
        "id": "WDIoVopMJM3Z",
        "outputId": "4240de52-a1ab-4750-ea76-fc78e1c78e7c"
      },
      "execution_count": null,
      "outputs": [
        {
          "output_type": "stream",
          "name": "stdout",
          "text": [
            "None\n",
            "{1}\n"
          ]
        }
      ]
    },
    {
      "cell_type": "code",
      "source": [
        "num=set()\n",
        "print(num.add(1))\n",
        "print(num.add(2))\n",
        "print(num.remove(1))\n",
        "print(num.clear())\n",
        "print(num)\n",
        "print(len(num))\n"
      ],
      "metadata": {
        "colab": {
          "base_uri": "https://localhost:8080/"
        },
        "id": "jj9bsnsrJfli",
        "outputId": "aac16d62-9b42-496c-ee89-9d5dfd848e4d"
      },
      "execution_count": null,
      "outputs": [
        {
          "output_type": "stream",
          "name": "stdout",
          "text": [
            "None\n",
            "None\n",
            "None\n",
            "None\n",
            "set()\n",
            "0\n"
          ]
        }
      ]
    },
    {
      "cell_type": "code",
      "source": [
        "set1={1,2,3}\n",
        "set2={1,4,5}\n",
        "print(set1.union(set2))\n",
        "print(set1.intersection(set2))"
      ],
      "metadata": {
        "colab": {
          "base_uri": "https://localhost:8080/"
        },
        "id": "mVqAu4DoLaF8",
        "outputId": "423993e2-ead1-416b-c1d8-ea02a02f2388"
      },
      "execution_count": null,
      "outputs": [
        {
          "output_type": "stream",
          "name": "stdout",
          "text": [
            "{1, 2, 3, 4, 5}\n",
            "{1}\n"
          ]
        }
      ]
    },
    {
      "cell_type": "code",
      "source": [
        "dict={\n",
        "    \"animals\" : \"cat\",\n",
        "    \"table\" : [\"small piece of furniture\", \"wood\"]\n",
        "}\n",
        "\n",
        "print(dict)"
      ],
      "metadata": {
        "colab": {
          "base_uri": "https://localhost:8080/"
        },
        "id": "8WJohgBLMjG1",
        "outputId": "9be7716e-8c1c-4464-9be4-dd6c70df11d3"
      },
      "execution_count": null,
      "outputs": [
        {
          "output_type": "stream",
          "name": "stdout",
          "text": [
            "{'animals': 'cat', 'table': ['small piece of furniture', 'wood']}\n"
          ]
        }
      ]
    },
    {
      "cell_type": "code",
      "source": [
        "sub={\"python\", \"java\", \"c++\", \"java\", \"c\", \"javascript\",\"python\"}  #sets\n",
        "print(len(sub))"
      ],
      "metadata": {
        "colab": {
          "base_uri": "https://localhost:8080/"
        },
        "id": "24b0fb4GNPsd",
        "outputId": "a809a048-84d1-463a-c849-5b0b53dd71eb"
      },
      "execution_count": null,
      "outputs": [
        {
          "output_type": "stream",
          "name": "stdout",
          "text": [
            "5\n"
          ]
        }
      ]
    },
    {
      "cell_type": "code",
      "source": [
        "#dict\n",
        "sub={}\n",
        "print(sub.update({\"phy\":86}))\n",
        "print(sub.update({\"chem\":97}))\n",
        "print(sub.update({\"maths\":95}))\n",
        "print(sub)"
      ],
      "metadata": {
        "colab": {
          "base_uri": "https://localhost:8080/"
        },
        "id": "7KgAaDfWOUO2",
        "outputId": "51c4d0c7-8c42-401b-fb51-c37d792a5d4f"
      },
      "execution_count": null,
      "outputs": [
        {
          "output_type": "stream",
          "name": "stdout",
          "text": [
            "None\n",
            "None\n",
            "None\n",
            "{'phy': 86, 'chem': 97, 'maths': 95}\n"
          ]
        }
      ]
    },
    {
      "cell_type": "code",
      "source": [
        "students = {}\n",
        "n = int(input(\"Enter the number of students: \"))\n",
        "for i in range(n):\n",
        "    name = input(\"Enter student name: \")\n",
        "    marks = float(input(\"Enter percentage marks: \"))\n",
        "    students[name]=marks\n",
        "\n",
        "\n",
        "print(\"\\nStudent Information:\")\n",
        "for name, marks in students.items():\n",
        "    print(f\"Name:{name} , Marks:{marks} %\")\n"
      ],
      "metadata": {
        "colab": {
          "base_uri": "https://localhost:8080/"
        },
        "id": "sZeUNG2o9ynn",
        "outputId": "2ba72ce2-4145-437e-944f-f942084e2676"
      },
      "execution_count": null,
      "outputs": [
        {
          "output_type": "stream",
          "name": "stdout",
          "text": [
            "Enter the number of students: 2\n",
            "Enter student name: bfdfgrfd\n",
            "Enter percentage marks: 65\n",
            "Enter student name: gfesd\n",
            "Enter percentage marks: 6\n",
            "\n",
            "Student Information:\n",
            "Name:bfdfgrfd , Marks:65.0 %\n",
            "Name:gfesd , Marks:6.0 %\n"
          ]
        }
      ]
    },
    {
      "cell_type": "code",
      "source": [
        "text = input(\"Enter a string: \").lower()\n",
        "vowels = \"aeiou\"\n",
        "occurrences = {v: 0 for v in vowels}\n",
        "\n",
        "for char in text:\n",
        "    if char in vowels:\n",
        "        occurrences[char] += 1\n",
        "\n",
        "print(\"Occurrences of each vowel:\")\n",
        "for vowel, count in occurrences.items():\n",
        "    print(f\"{vowel}: {count}\")\n",
        "\n"
      ],
      "metadata": {
        "colab": {
          "base_uri": "https://localhost:8080/"
        },
        "id": "sILXprTHDIpB",
        "outputId": "116b336e-8f23-46b8-f930-457712b8bbfe"
      },
      "execution_count": null,
      "outputs": [
        {
          "output_type": "stream",
          "name": "stdout",
          "text": [
            "Enter a string: simran\n",
            "Occurrences of each vowel:\n",
            "a: 1\n",
            "e: 0\n",
            "i: 1\n",
            "o: 0\n",
            "u: 0\n"
          ]
        }
      ]
    },
    {
      "cell_type": "code",
      "source": [
        "students = {}\n",
        "n = int(input(\"Enter the number of students: \"))\n",
        "for _ in range(n):\n",
        "    name = input(\"Enter student name: \")\n",
        "    marks = float(input(\"Enter marks: \"))\n",
        "    students[name] = marks\n",
        "\n",
        "search_name = input(\"Enter the name of the student to search: \")\n",
        "if search_name in students:\n",
        "    print(f\"{search_name}'s marks: {students[search_name]}\")\n",
        "else:\n",
        "    print(\"Student not found.\")\n",
        "dgd33"
      ],
      "metadata": {
        "colab": {
          "base_uri": "https://localhost:8080/"
        },
        "id": "pyd_3od5E4l-",
        "outputId": "2ac4d580-d128-4c71-d5f2-047a5c2c2063"
      },
      "execution_count": null,
      "outputs": [
        {
          "output_type": "stream",
          "name": "stdout",
          "text": [
            "Enter the number of students: 5\n",
            "Enter student name: dgdg\n",
            "Enter marks: 33\n",
            "Enter student name: hrtyr\n",
            "Enter marks: 32\n",
            "Enter student name: si\n",
            "Enter marks: 35\n",
            "Enter student name: w\n",
            "Enter marks: 86\n",
            "Enter student name: tyj\n",
            "Enter marks: 2\n",
            "Enter the name of the student to search: si\n",
            "si's marks: 35.0\n"
          ]
        }
      ]
    },
    {
      "cell_type": "code",
      "source": [
        "data = {\n",
        "    \"name\": \"John Doe\",\n",
        "    \"age\": 30,\n",
        "    \"address\": \"123 Main St\",\n",
        "    \"type\": \"Individual\"\n",
        "}\n",
        "\n",
        "print(f\"Total keys: {len(data)}\")\n",
        "print(data.get(\"keys\"))\n",
        "data.update({\"dadad\":\"cffv\"})\n",
        "print(data)\n"
      ],
      "metadata": {
        "colab": {
          "base_uri": "https://localhost:8080/"
        },
        "id": "DKaBwYbeGAlj",
        "outputId": "f0d29b7b-64b1-4d0a-ed37-c0379c7e477e"
      },
      "execution_count": null,
      "outputs": [
        {
          "output_type": "stream",
          "name": "stdout",
          "text": [
            "Total keys: 4\n",
            "None\n",
            "{'name': 'John Doe', 'age': 30, 'address': '123 Main St', 'type': 'Individual', 'dadad': 'cffv'}\n"
          ]
        }
      ]
    },
    {
      "cell_type": "code",
      "source": [
        "data = {\"a\": 1, \"b\": 2, \"c\": 1, \"d\": 3, \"e\": 2}\n",
        "unique_data = {}\n",
        "for key, value in data.items():\n",
        "    if value not in unique_data.values():\n",
        "        unique_data[key] = value\n",
        "\n",
        "print(\"Dictionary after removing duplicates:\")\n",
        "print(unique_data)\n"
      ],
      "metadata": {
        "colab": {
          "base_uri": "https://localhost:8080/"
        },
        "id": "wKOZlY2LGE6B",
        "outputId": "43fe7dad-c3d3-423a-fb8e-a46b293425f5"
      },
      "execution_count": null,
      "outputs": [
        {
          "output_type": "stream",
          "name": "stdout",
          "text": [
            "Dictionary after removing duplicates:\n",
            "{'a': 1, 'b': 2, 'd': 3}\n"
          ]
        }
      ]
    },
    {
      "cell_type": "code",
      "source": [
        "data = {'a':2}\n",
        "if not data:\n",
        "    print(\"The dictionary is empty.\")\n",
        "else:\n",
        "    print(\"The dictionary is not empty.\")\n"
      ],
      "metadata": {
        "colab": {
          "base_uri": "https://localhost:8080/"
        },
        "id": "-SKhxfdwIUC1",
        "outputId": "4b1fa286-5bcf-4622-bccc-a5e03311d07f"
      },
      "execution_count": null,
      "outputs": [
        {
          "output_type": "stream",
          "name": "stdout",
          "text": [
            "The dictionary is not empty.\n"
          ]
        }
      ]
    },
    {
      "cell_type": "code",
      "source": [
        "nums = list(map(int, input(\"Enter integers separated by space: \").split()))\n",
        "total = sum(nums)\n",
        "average = total / len(nums)\n",
        "print(f\"Sum: {total}, Average: {average}\")\n"
      ],
      "metadata": {
        "colab": {
          "base_uri": "https://localhost:8080/"
        },
        "id": "z3uPw6ZJKJFz",
        "outputId": "a257cd64-b21c-42bd-cf8d-6031df690a4d"
      },
      "execution_count": null,
      "outputs": [
        {
          "output_type": "stream",
          "name": "stdout",
          "text": [
            "Enter integers separated by space: 2 3 4 5 67\n",
            "Sum: 81, Average: 16.2\n"
          ]
        }
      ]
    },
    {
      "cell_type": "code",
      "source": [
        "n = int(input(\"Enter the value of n: \"))\n",
        "total = n * (n + 1) // 2\n",
        "average = total / n\n",
        "print(f\"Sum: {total}, Average: {average}\")\n",
        "\n"
      ],
      "metadata": {
        "colab": {
          "base_uri": "https://localhost:8080/"
        },
        "id": "km0owseVKf3T",
        "outputId": "8ef31ba5-eab7-4e46-e28d-f75d1fb7a2f4"
      },
      "execution_count": null,
      "outputs": [
        {
          "output_type": "stream",
          "name": "stdout",
          "text": [
            "Enter the value of n: 5\n",
            "Sum: 15, Average: 3.0\n"
          ]
        }
      ]
    },
    {
      "cell_type": "code",
      "source": [
        "from collections import Counter\n",
        "\n",
        "nums = list(map(int, input(\"Enter integers separated by space: \").split()))\n",
        "odd_occurrences = [num for num, count in Counter(nums).items() if count % 2 != 0]\n",
        "print(\"Elements with odd occurrences:\", odd_occurrences)\n"
      ],
      "metadata": {
        "colab": {
          "base_uri": "https://localhost:8080/"
        },
        "id": "jcVlsNJnKwmb",
        "outputId": "37aa9914-cea4-47de-f43b-134fd6ec1de1"
      },
      "execution_count": null,
      "outputs": [
        {
          "output_type": "stream",
          "name": "stdout",
          "text": [
            "Enter integers separated by space: 2 12 3 4 \n",
            "Elements with odd occurrences: [2, 12, 3, 4]\n"
          ]
        }
      ]
    },
    {
      "cell_type": "code",
      "source": [
        "list1 = list(map(int, input(\"Enter elements of the first list separated by space: \").split()))\n",
        "list2 = list(map(int, input(\"Enter elements of the second list separated by space: \").split()))\n",
        "merged_list = list1 + list2\n",
        "even_numbers = [num for num in merged_list if num % 2 == 0]\n",
        "print(\"Merged list:\", merged_list)\n",
        "print(\"Even numbers:\", even_numbers)\n"
      ],
      "metadata": {
        "colab": {
          "base_uri": "https://localhost:8080/"
        },
        "id": "vrngelEeLDLz",
        "outputId": "70c5a705-cfaa-41f8-cc9c-75a4d873edbc"
      },
      "execution_count": null,
      "outputs": [
        {
          "output_type": "stream",
          "name": "stdout",
          "text": [
            "Enter elements of the first list separated by space: 3 4 5\n",
            "Enter elements of the second list separated by space: 2 1 6\n",
            "Merged list: [3, 4, 5, 2, 1, 6]\n",
            "Even numbers: [4, 2, 6]\n"
          ]
        }
      ]
    },
    {
      "cell_type": "code",
      "source": [
        "from collections import Counter\n",
        "\n",
        "nums = list(map(int, input(\"Enter integers separated by space: \").split()))\n",
        "odd_occurrences = [num for num, count in Counter(nums).items() if count % 2 != 0]\n",
        "print(\"Elements with odd occurrences:\", odd_occurrences)\n",
        "\n"
      ],
      "metadata": {
        "colab": {
          "base_uri": "https://localhost:8080/"
        },
        "id": "G-rRXWeSMY9J",
        "outputId": "db73412c-2486-4d0c-e215-5f4880f95a88"
      },
      "execution_count": null,
      "outputs": [
        {
          "output_type": "stream",
          "name": "stdout",
          "text": [
            "Enter integers separated by space: 2 5 9 9\n",
            "Elements with odd occurrences: [2, 5]\n"
          ]
        }
      ]
    },
    {
      "cell_type": "code",
      "source": [
        "data = {\"a\": 10, \"b\": 25, \"c\": 5, \"d\": 15}\n",
        "max_value = max(data.values())\n",
        "min_value = min(data.values())\n",
        "print(f\"Maximum value: {max_value}\")\n",
        "print(f\"Minimum value: {min_value}\")\n"
      ],
      "metadata": {
        "colab": {
          "base_uri": "https://localhost:8080/"
        },
        "id": "vYN8HtGfIxYk",
        "outputId": "8bb520a9-4a01-4b3b-c557-aac03fd65108"
      },
      "execution_count": null,
      "outputs": [
        {
          "output_type": "stream",
          "name": "stdout",
          "text": [
            "Maximum value: 25\n",
            "Minimum value: 5\n"
          ]
        }
      ]
    },
    {
      "cell_type": "code",
      "source": [
        "# Input two tuples\n",
        "tuple1 = tuple(map(int, input(\"Enter elements of the first tuple separated by space: \").split()))\n",
        "tuple2 = tuple(map(int, input(\"Enter elements of the second tuple separated by space: \").split()))\n",
        "\n",
        "# Concatenate tuples\n",
        "concatenated_tuple = tuple1 + tuple2\n",
        "print(\"Concatenated Tuple:\", concatenated_tuple)\n",
        "\n",
        "# a) Find the length\n",
        "print(\"Length of the concatenated tuple:\", len(concatenated_tuple))\n",
        "\n",
        "# b) Find the maximum and minimum element\n",
        "if concatenated_tuple:\n",
        "    print(\"Maximum element:\", max(concatenated_tuple))\n",
        "    print(\"Minimum element:\", min(concatenated_tuple))\n",
        "else:\n",
        "    print(\"The tuple is empty, so max and min cannot be calculated.\")\n",
        "\n",
        "# c) Search an element\n",
        "element = int(input(\"Enter an element to search: \"))\n",
        "if element in concatenated_tuple:\n",
        "    print(f\"{element} is present in the tuple.\")\n",
        "else:\n",
        "    print(f\"{element} is not present in the tuple.\")\n",
        "\n",
        "# d) Delete the concatenated tuple\n",
        "del concatenated_tuple\n",
        "print(\"Concatenated tuple deleted.\")\n",
        " 36"
      ],
      "metadata": {
        "colab": {
          "base_uri": "https://localhost:8080/"
        },
        "id": "dFtSEUA7NOeJ",
        "outputId": "294c3dca-9655-4bda-8686-5dd8e460f444"
      },
      "execution_count": null,
      "outputs": [
        {
          "output_type": "stream",
          "name": "stdout",
          "text": [
            "Enter elements of the first tuple separated by space: 5 6 9 88\n",
            "Enter elements of the second tuple separated by space:  2\n",
            "Concatenated Tuple: (5, 6, 9, 88, 2)\n",
            "Length of the concatenated tuple: 5\n",
            "Maximum element: 88\n",
            "Minimum element: 2\n",
            "Enter an element to search: 2\n",
            "2 is present in the tuple.\n",
            "Concatenated tuple deleted.\n"
          ]
        }
      ]
    },
    {
      "cell_type": "code",
      "source": [
        "# Input tuple\n",
        "t = tuple(map(int, input(\"Enter elements of the tuple separated by space: \").split()))\n",
        "\n",
        "# Check for uniqueness\n",
        "if len(t) == len(set(t)):\n",
        "    print(\"The tuple contains all unique elements.\")\n",
        "else:\n",
        "    print(\"The tuple does not contain unique elements.\")\n"
      ],
      "metadata": {
        "colab": {
          "base_uri": "https://localhost:8080/"
        },
        "id": "CgYAqCHuOFX7",
        "outputId": "2b769e5b-0dbb-4c66-d777-966dd8ed0e1d"
      },
      "execution_count": null,
      "outputs": [
        {
          "output_type": "stream",
          "name": "stdout",
          "text": [
            "Enter elements of the tuple separated by space: 2 34 5\n",
            "The tuple contains all unique elements.\n"
          ]
        }
      ]
    },
    {
      "cell_type": "code",
      "source": [
        "# Input tuple\n",
        "t = tuple(map(int, input(\"Enter elements of the tuple separated by space: \").split()))\n",
        "\n",
        "# Find size\n",
        "print(len(t))"
      ],
      "metadata": {
        "colab": {
          "base_uri": "https://localhost:8080/"
        },
        "id": "SHWnBTlROars",
        "outputId": "61f0d09f-de52-45aa-d3b3-fe519fe0a619"
      },
      "execution_count": null,
      "outputs": [
        {
          "output_type": "stream",
          "name": "stdout",
          "text": [
            "Enter elements of the tuple separated by space: 5 6 2\n",
            "3\n"
          ]
        }
      ]
    },
    {
      "cell_type": "code",
      "source": [
        "# Input list\n",
        "nums = list(map(int, input(\"Enter numbers separated by space: \").split()))\n",
        "\n",
        "# Create list of tuples\n",
        "result = [(x, x**3) for x in nums]\n",
        "print( result)\n",
        "\n",
        "\n",
        "\n"
      ],
      "metadata": {
        "colab": {
          "base_uri": "https://localhost:8080/"
        },
        "id": "r_Qpb28HPPuP",
        "outputId": "58b15adc-9e1b-46f2-d3f2-c823814c84e4"
      },
      "execution_count": null,
      "outputs": [
        {
          "output_type": "stream",
          "name": "stdout",
          "text": [
            "Enter numbers separated by space: 5 6 99\n",
            "[(5, 125), (6, 216), (99, 970299)]\n"
          ]
        }
      ]
    },
    {
      "cell_type": "code",
      "source": [
        "data = {}\n",
        "n = int(input(\"Enter the number of key-value pairs: \"))\n",
        "for _ in range(n):\n",
        "    key = input(\"Enter key: \")\n",
        "    value = int(input(\"Enter value: \"))\n",
        "    data[key] = value\n",
        "\n",
        "total = sum(data.values())\n",
        "print(f\"Sum of values: {total}\")\n"
      ],
      "metadata": {
        "colab": {
          "base_uri": "https://localhost:8080/"
        },
        "id": "Vu4wO2JCAF1Z",
        "outputId": "b346c275-8127-4fec-ccfd-dff6285cc96f"
      },
      "execution_count": null,
      "outputs": [
        {
          "output_type": "stream",
          "name": "stdout",
          "text": [
            "Enter the number of key-value pairs: 2\n",
            "Enter key: hf\n",
            "Enter value: 5\n",
            "Enter key: gge\n",
            "Enter value: 5\n",
            "Sum of values: 10\n"
          ]
        }
      ]
    },
    {
      "cell_type": "code",
      "source": [
        "text = input(\"Enter a string: \")\n",
        "occurrences = {}\n",
        "for char in text:\n",
        "    if char.isalpha():\n",
        "        occurrences[char] = occurrences.get(char, 0) + 1\n",
        "\n",
        "print(\"Occurrences of each letter:\")\n",
        "for char, count in occurrences.items():\n",
        "    print(f\"{char}: {count}\")\n"
      ],
      "metadata": {
        "colab": {
          "base_uri": "https://localhost:8080/"
        },
        "id": "pRm9zcu3A0um",
        "outputId": "2c380210-79ff-4a7f-df1f-9fc30686e56a"
      },
      "execution_count": null,
      "outputs": [
        {
          "output_type": "stream",
          "name": "stdout",
          "text": [
            "Enter a string: simmran\n",
            "Occurrences of each letter:\n",
            "s: 1\n",
            "i: 1\n",
            "m: 2\n",
            "r: 1\n",
            "a: 1\n",
            "n: 1\n"
          ]
        }
      ]
    },
    {
      "cell_type": "code",
      "source": [
        "value={9,\"9.0\"}\n",
        "print(value)\n",
        "values={\n",
        "    (\"int\", 9),\n",
        "    (\"float\", 9.0)\n",
        "}\n",
        "print(values)"
      ],
      "metadata": {
        "colab": {
          "base_uri": "https://localhost:8080/"
        },
        "id": "C3U58cpKPiQi",
        "outputId": "799921c2-12b2-4fb4-f0fe-762d37e3d05d"
      },
      "execution_count": null,
      "outputs": [
        {
          "output_type": "stream",
          "name": "stdout",
          "text": [
            "{9, '9.0'}\n",
            "{('float', 9.0), ('int', 9)}\n"
          ]
        }
      ]
    },
    {
      "cell_type": "code",
      "source": [
        "#loops\n",
        "i=1\n",
        "while i<=5:\n",
        "  print(i)\n",
        "  i+=1"
      ],
      "metadata": {
        "colab": {
          "base_uri": "https://localhost:8080/"
        },
        "id": "iO7NgnTcApPx",
        "outputId": "c417b550-5df5-4408-ad2c-fe393d9ee213"
      },
      "execution_count": null,
      "outputs": [
        {
          "output_type": "stream",
          "name": "stdout",
          "text": [
            "1\n",
            "2\n",
            "3\n",
            "4\n",
            "5\n"
          ]
        }
      ]
    },
    {
      "cell_type": "code",
      "source": [
        "#loops\n",
        "i=5\n",
        "while i>=1:\n",
        "  print(i)\n",
        "  i-=1"
      ],
      "metadata": {
        "colab": {
          "base_uri": "https://localhost:8080/"
        },
        "id": "npY2FfkbDRbM",
        "outputId": "22e775cc-5a38-47d6-a1c9-c7913282e2dc"
      },
      "execution_count": null,
      "outputs": [
        {
          "output_type": "stream",
          "name": "stdout",
          "text": [
            "5\n",
            "4\n",
            "3\n",
            "2\n",
            "1\n"
          ]
        }
      ]
    },
    {
      "cell_type": "code",
      "source": [
        "n=2\n",
        "i=1\n",
        "while i<=10:\n",
        " print(n*i)\n",
        " i+=1"
      ],
      "metadata": {
        "colab": {
          "base_uri": "https://localhost:8080/"
        },
        "id": "AqXJ7tRwFJFm",
        "outputId": "241219ef-a4f8-4143-81c2-7ed11e53d63a"
      },
      "execution_count": null,
      "outputs": [
        {
          "output_type": "stream",
          "name": "stdout",
          "text": [
            "2\n",
            "4\n",
            "6\n",
            "8\n",
            "10\n",
            "12\n",
            "14\n",
            "16\n",
            "18\n",
            "20\n"
          ]
        }
      ]
    },
    {
      "cell_type": "code",
      "source": [
        "#print the list using loop\n",
        "\n",
        "num=[1,4,9,16,25]\n",
        "i=0\n",
        "while i< len(num):\n",
        "  print(num[i])\n",
        "  i+=1"
      ],
      "metadata": {
        "colab": {
          "base_uri": "https://localhost:8080/"
        },
        "id": "Kf52wHpDGJEf",
        "outputId": "42798ae3-0fad-4d72-ead2-9cb2df531c22"
      },
      "execution_count": null,
      "outputs": [
        {
          "output_type": "stream",
          "name": "stdout",
          "text": [
            "1\n",
            "4\n",
            "9\n",
            "16\n",
            "25\n"
          ]
        }
      ]
    },
    {
      "cell_type": "code",
      "source": [
        "#search for x in tuple\n",
        "\n",
        "a=(1,24,3,40)\n",
        "x=3\n",
        "i=0\n",
        "while i<len(a):\n",
        " if(a[i]==x):\n",
        "   print(\"element fount at\",i)\n",
        " i+=1\n"
      ],
      "metadata": {
        "id": "9Ip3bPwgOa_i",
        "colab": {
          "base_uri": "https://localhost:8080/"
        },
        "outputId": "6c7c525a-c89b-46e7-e87a-35dba6dd1a8a"
      },
      "execution_count": null,
      "outputs": [
        {
          "output_type": "stream",
          "name": "stdout",
          "text": [
            "element fount at 2\n"
          ]
        }
      ]
    },
    {
      "cell_type": "code",
      "source": [
        "i=1                   #BREAK\n",
        "while i<=10:\n",
        " if(i==7):\n",
        "  break\n",
        " print(i)\n",
        " i+=1"
      ],
      "metadata": {
        "colab": {
          "base_uri": "https://localhost:8080/"
        },
        "id": "ZL4OldDzTQ6w",
        "outputId": "66caee1e-3f7c-4536-d276-4bf83ad98f03"
      },
      "execution_count": null,
      "outputs": [
        {
          "output_type": "stream",
          "name": "stdout",
          "text": [
            "1\n",
            "2\n",
            "3\n",
            "4\n",
            "5\n",
            "6\n"
          ]
        }
      ]
    },
    {
      "cell_type": "code",
      "source": [
        "i=1                     #CONTINUE\n",
        "while i<=10:\n",
        " if(i==7):\n",
        "  i+=1\n",
        "  continue\n",
        "\n",
        " print(i)\n",
        " i+=1"
      ],
      "metadata": {
        "colab": {
          "base_uri": "https://localhost:8080/"
        },
        "id": "80a-oIPATul5",
        "outputId": "0e5efdaa-70e0-45e7-8200-a6e2a016956f"
      },
      "execution_count": null,
      "outputs": [
        {
          "output_type": "stream",
          "name": "stdout",
          "text": [
            "1\n",
            "2\n",
            "3\n",
            "4\n",
            "5\n",
            "6\n",
            "8\n",
            "9\n",
            "10\n"
          ]
        }
      ]
    },
    {
      "cell_type": "code",
      "source": [
        "#FOR LOOP\n",
        "\n",
        "num={1,2,3,4}\n",
        "for vals in num:\n",
        " print(vals)"
      ],
      "metadata": {
        "colab": {
          "base_uri": "https://localhost:8080/"
        },
        "id": "QDQLhxjIWR3Q",
        "outputId": "21b27b5f-be71-491b-8f43-de4eca54ffd4"
      },
      "execution_count": null,
      "outputs": [
        {
          "output_type": "stream",
          "name": "stdout",
          "text": [
            "1\n",
            "2\n",
            "3\n",
            "4\n"
          ]
        }
      ]
    },
    {
      "cell_type": "code",
      "source": [
        "\n",
        "#search for num usig for loop\n",
        "\n",
        "tup =(2,24,3,45,3)\n",
        "x=3\n",
        "i=0\n",
        "for val in tup:\n",
        "   if(val==x):\n",
        "      print(\"element found at\",i)\n",
        "   i+=1\n",
        "\n"
      ],
      "metadata": {
        "colab": {
          "base_uri": "https://localhost:8080/"
        },
        "id": "Y6tDyLvLX49r",
        "outputId": "6fe16917-da93-4a81-e204-f206d148829e"
      },
      "execution_count": null,
      "outputs": [
        {
          "output_type": "stream",
          "name": "stdout",
          "text": [
            "element found at 2\n",
            "element found at 4\n"
          ]
        }
      ]
    },
    {
      "cell_type": "code",
      "source": [],
      "metadata": {
        "id": "3z3IP8PlH_PQ"
      },
      "execution_count": null,
      "outputs": []
    },
    {
      "cell_type": "code",
      "source": [
        "for i in range(5):\n",
        "  print(i)\n",
        "for i in range(1,5):\n",
        "  print(i)\n",
        "for i in range(1,5,2):\n",
        "  print(i)\n"
      ],
      "metadata": {
        "id": "tLhPG-pUaLlx",
        "colab": {
          "base_uri": "https://localhost:8080/"
        },
        "outputId": "3b8d0f88-642e-4985-ffe6-4b4cc9905dfe"
      },
      "execution_count": null,
      "outputs": [
        {
          "output_type": "stream",
          "name": "stdout",
          "text": [
            "0\n",
            "1\n",
            "2\n",
            "3\n",
            "4\n",
            "1\n",
            "2\n",
            "3\n",
            "4\n",
            "1\n",
            "3\n"
          ]
        }
      ]
    },
    {
      "cell_type": "code",
      "source": [
        "for i in range(10,0,-1):\n",
        "  print(i)"
      ],
      "metadata": {
        "colab": {
          "base_uri": "https://localhost:8080/"
        },
        "id": "-yh8NouDKy1C",
        "outputId": "f3acd10e-0e66-4347-c904-e419d322ba69"
      },
      "execution_count": null,
      "outputs": [
        {
          "output_type": "stream",
          "name": "stdout",
          "text": [
            "10\n",
            "9\n",
            "8\n",
            "7\n",
            "6\n",
            "5\n",
            "4\n",
            "3\n",
            "2\n",
            "1\n"
          ]
        }
      ]
    },
    {
      "cell_type": "code",
      "source": [
        "# WAP fact using for\n",
        "num=int(input(\"enter the num\"))\n",
        "fact=1\n",
        "for i in range(1,num+1):\n",
        "  fact*=i\n",
        "\n",
        "print(fact)"
      ],
      "metadata": {
        "colab": {
          "base_uri": "https://localhost:8080/"
        },
        "id": "Uo4DQx0jOWfG",
        "outputId": "7bc73d07-faa2-4e2b-c51f-a9a4dbcf3feb"
      },
      "execution_count": null,
      "outputs": [
        {
          "output_type": "stream",
          "name": "stdout",
          "text": [
            "enter the num5\n",
            "120\n"
          ]
        }
      ]
    },
    {
      "cell_type": "code",
      "source": [
        "# WAP  sum of n natural num (while)\n",
        "\n",
        "num=int(input(\"enter the num\"))\n",
        "i=1\n",
        "sum=0\n",
        "while i<=num:\n",
        "  sum+=i\n",
        "  i+=1\n",
        "print(sum)"
      ],
      "metadata": {
        "colab": {
          "base_uri": "https://localhost:8080/"
        },
        "id": "L-tmCdhvLfUg",
        "outputId": "1ac54834-c408-4e0f-8385-0252cad337aa"
      },
      "execution_count": null,
      "outputs": [
        {
          "output_type": "stream",
          "name": "stdout",
          "text": [
            "enter the num2\n",
            "3\n"
          ]
        }
      ]
    },
    {
      "cell_type": "code",
      "source": [
        "#function\n",
        "\n",
        "def sum(a,b):\n",
        "  sum=a+b\n",
        "  print(sum)\n",
        "  return sum\n",
        "\n",
        "sum(2,3)\n",
        "sum(10,5)\n",
        "\n"
      ],
      "metadata": {
        "colab": {
          "base_uri": "https://localhost:8080/"
        },
        "id": "BHJOfHfWGh08",
        "outputId": "89f45db4-99bb-4598-871f-389d09ffa40b"
      },
      "execution_count": null,
      "outputs": [
        {
          "output_type": "stream",
          "name": "stdout",
          "text": [
            "5\n",
            "15\n"
          ]
        },
        {
          "output_type": "execute_result",
          "data": {
            "text/plain": [
              "15"
            ]
          },
          "metadata": {},
          "execution_count": 17
        }
      ]
    },
    {
      "cell_type": "code",
      "source": [
        "#avg of 3 number\n",
        "\n",
        "def avg(a,b,c):\n",
        "  avg=(a+b+c)/3\n",
        "  print(avg)\n",
        "  return avg\n",
        "\n",
        "avg(a=1,b=2,c=3)\n",
        "avg(4,6,8)"
      ],
      "metadata": {
        "colab": {
          "base_uri": "https://localhost:8080/"
        },
        "id": "mAe2txYVJxYW",
        "outputId": "cd9c19a7-9b7f-4118-9fbd-287a07889732"
      },
      "execution_count": null,
      "outputs": [
        {
          "output_type": "stream",
          "name": "stdout",
          "text": [
            "2.0\n",
            "6.0\n"
          ]
        },
        {
          "output_type": "execute_result",
          "data": {
            "text/plain": [
              "6.0"
            ]
          },
          "metadata": {},
          "execution_count": 23
        }
      ]
    },
    {
      "cell_type": "code",
      "source": [
        "print(\"simran\",end=\" \")\n",
        "print(\"patel\")\n",
        "\n",
        "print(\"simran\",end=\"_\")\n",
        "print(\"patel\")\n",
        "\n"
      ],
      "metadata": {
        "colab": {
          "base_uri": "https://localhost:8080/"
        },
        "id": "gcxdSpswWyDk",
        "outputId": "cf182097-5144-42d8-e014-933e42e398ba"
      },
      "execution_count": null,
      "outputs": [
        {
          "output_type": "stream",
          "name": "stdout",
          "text": [
            "simran patel\n",
            "simran_patel\n"
          ]
        }
      ]
    },
    {
      "cell_type": "code",
      "source": [
        "def cal_product(a,b):\n",
        " product=a*b\n",
        " print(product)\n",
        " return product\n",
        "\n",
        "cal_product(2,3)"
      ],
      "metadata": {
        "colab": {
          "base_uri": "https://localhost:8080/"
        },
        "id": "Xn-bfeJKXoQ0",
        "outputId": "dd45b714-8260-4ab1-e472-2a92822e7e3c"
      },
      "execution_count": null,
      "outputs": [
        {
          "output_type": "stream",
          "name": "stdout",
          "text": [
            "6\n"
          ]
        },
        {
          "output_type": "execute_result",
          "data": {
            "text/plain": [
              "6"
            ]
          },
          "metadata": {},
          "execution_count": 6
        }
      ]
    },
    {
      "cell_type": "code",
      "source": [
        "def cal_product(a,b):\n",
        "  print(a*b)\n",
        "  return a*b\n",
        "cal_product(1,2)\n"
      ],
      "metadata": {
        "colab": {
          "base_uri": "https://localhost:8080/"
        },
        "id": "LooIYmQ5Yl3u",
        "outputId": "582ca4ea-ad1a-4c26-a328-b0f84438d550"
      },
      "execution_count": null,
      "outputs": [
        {
          "output_type": "stream",
          "name": "stdout",
          "text": [
            "2\n"
          ]
        },
        {
          "output_type": "execute_result",
          "data": {
            "text/plain": [
              "2"
            ]
          },
          "metadata": {},
          "execution_count": 11
        }
      ]
    },
    {
      "cell_type": "code",
      "source": [
        "#WAF to print length of list\n",
        "\n",
        "a=[1,2,3,4,5]\n",
        "b=[2,3,4]\n",
        "\n",
        "def print_len(list):\n",
        "  print(len(list))\n",
        "print_len(a)\n",
        "print_len(b)"
      ],
      "metadata": {
        "colab": {
          "base_uri": "https://localhost:8080/"
        },
        "id": "msd7BbB9m0pc",
        "outputId": "320be72b-f8fb-4747-8d02-2cf247c7943d"
      },
      "execution_count": null,
      "outputs": [
        {
          "output_type": "stream",
          "name": "stdout",
          "text": [
            "5\n",
            "3\n"
          ]
        }
      ]
    },
    {
      "cell_type": "code",
      "source": [
        "#WAF to print element of list in single line\n",
        "\n",
        "a=[1,2,3,4,5]\n",
        "\n",
        "def print_element(list):\n",
        "  for i in a:\n",
        "    print(i,end=\" \")\n",
        "print_element(a)"
      ],
      "metadata": {
        "colab": {
          "base_uri": "https://localhost:8080/"
        },
        "id": "IVQjsLnkoqvP",
        "outputId": "77d2b642-0d17-4aca-bd05-698b9d6dcec6"
      },
      "execution_count": null,
      "outputs": [
        {
          "output_type": "stream",
          "name": "stdout",
          "text": [
            "1 2 3 4 5 "
          ]
        }
      ]
    },
    {
      "cell_type": "code",
      "source": [
        "#WAF to print fact of n\n",
        "\n",
        "def fact(n):\n",
        "  fact=1\n",
        "  for i in range(1,n+1):\n",
        "    fact*=i\n",
        "  print(fact)\n",
        "\n",
        "fact(5)"
      ],
      "metadata": {
        "colab": {
          "base_uri": "https://localhost:8080/"
        },
        "id": "RPr0_p7CqIYd",
        "outputId": "b7d1db8d-60bc-4b8e-ef2c-d5293cbaf237"
      },
      "execution_count": null,
      "outputs": [
        {
          "output_type": "stream",
          "name": "stdout",
          "text": [
            "120\n"
          ]
        }
      ]
    },
    {
      "cell_type": "code",
      "source": [
        "#WAF to convert USD to INR\n",
        "\n",
        "def converter(usd):\n",
        "  inr=83*usd\n",
        "  print(usd,\"usd=\" ,inr, \"inr\")\n",
        "\n",
        "converter(8)"
      ],
      "metadata": {
        "colab": {
          "base_uri": "https://localhost:8080/"
        },
        "id": "YsrYV9zTrZz5",
        "outputId": "1ceeeff0-4f7f-4374-88df-1cd00ae22414"
      },
      "execution_count": null,
      "outputs": [
        {
          "output_type": "stream",
          "name": "stdout",
          "text": [
            "8 usd= 664 inr\n"
          ]
        }
      ]
    },
    {
      "cell_type": "code",
      "source": [
        "#recursion\n",
        "\n",
        "def show(n):\n",
        "  if (n==0):\n",
        "    return\n",
        "  print(n)\n",
        "  show(n-1)\n",
        "show(6)"
      ],
      "metadata": {
        "colab": {
          "base_uri": "https://localhost:8080/"
        },
        "id": "RTA0Grrk83-a",
        "outputId": "441ccec1-1403-4525-eaa5-3506222788e4"
      },
      "execution_count": null,
      "outputs": [
        {
          "output_type": "stream",
          "name": "stdout",
          "text": [
            "6\n",
            "5\n",
            "4\n",
            "3\n",
            "2\n",
            "1\n"
          ]
        }
      ]
    },
    {
      "cell_type": "code",
      "source": [
        "def fact(n):\n",
        "  if(n==0 or n==1):\n",
        "    return 1\n",
        "  else:\n",
        "    return n*fact(n-1)\n",
        "fact(n=5)"
      ],
      "metadata": {
        "colab": {
          "base_uri": "https://localhost:8080/"
        },
        "id": "x5el8IjX9e5I",
        "outputId": "63523f98-b035-4d83-dfc8-ef7d6b2c063b"
      },
      "execution_count": null,
      "outputs": [
        {
          "output_type": "execute_result",
          "data": {
            "text/plain": [
              "120"
            ]
          },
          "metadata": {},
          "execution_count": 5
        }
      ]
    },
    {
      "cell_type": "code",
      "source": [
        "# write a function to calculate sum of n natural number\n",
        "def sum(n):\n",
        "  if(n==1):\n",
        "    return 1\n",
        "  else:\n",
        "    return n+sum(n-1)\n",
        "sum(5)"
      ],
      "metadata": {
        "colab": {
          "base_uri": "https://localhost:8080/"
        },
        "id": "GKWRhzko__Za",
        "outputId": "a2d6e882-edbf-4394-dd83-c29c7c5ab485"
      },
      "execution_count": null,
      "outputs": [
        {
          "output_type": "execute_result",
          "data": {
            "text/plain": [
              "15"
            ]
          },
          "metadata": {},
          "execution_count": 19
        }
      ]
    },
    {
      "cell_type": "code",
      "source": [
        "#function to calculate sum of n natural num using for loop\n",
        "def sum(n):\n",
        "  sum=0\n",
        "  for i in range(1,n+1):\n",
        "    sum+=i\n",
        "  print(sum)\n",
        "sum(5)\n",
        "\n",
        "#function to calculate sum of n natural num using for loop\n",
        "def sum(n):\n",
        "  i=1\n",
        "  sum=0\n",
        "\n",
        "  while i<=n:\n",
        "    sum+=i\n",
        "    i+=1\n",
        "  print(sum)\n",
        "sum(6)\n",
        "\n",
        "\n"
      ],
      "metadata": {
        "colab": {
          "base_uri": "https://localhost:8080/"
        },
        "id": "C63GRoGlCacr",
        "outputId": "da46661d-695f-40c6-9a5f-df2d7a136201"
      },
      "execution_count": null,
      "outputs": [
        {
          "output_type": "stream",
          "name": "stdout",
          "text": [
            "15\n",
            "21\n"
          ]
        }
      ]
    },
    {
      "cell_type": "code",
      "source": [
        "#file\n",
        "\n",
        "open(\"sample.txt\",\"w\")\n",
        "data=open(\"sample.txt\",\"r\")\n",
        "print(data.read())\n"
      ],
      "metadata": {
        "colab": {
          "base_uri": "https://localhost:8080/"
        },
        "id": "PMu3HlnsDQ0-",
        "outputId": "bcd964c8-a9d0-4a17-9d37-4f7feedc7591"
      },
      "execution_count": null,
      "outputs": [
        {
          "output_type": "stream",
          "name": "stdout",
          "text": [
            "\n"
          ]
        }
      ]
    },
    {
      "cell_type": "code",
      "source": [
        "a=int(input(\"enter value of a\"))\n",
        "b=int(input(\"enter value of b\"))\n",
        "\n",
        "a=a+b\n",
        "b=a-b\n",
        "a=a-b\n",
        "print(f\"after swap : a={a},b={b}\")"
      ],
      "metadata": {
        "id": "s-b_kNQiHwej",
        "colab": {
          "base_uri": "https://localhost:8080/"
        },
        "outputId": "8e738bbe-3772-44f5-d717-44ecdd71d283"
      },
      "execution_count": null,
      "outputs": [
        {
          "output_type": "stream",
          "name": "stdout",
          "text": [
            "enter value of a 6\n",
            "enter value of b 9\n",
            "after swap : a=9,b=6\n"
          ]
        }
      ]
    },
    {
      "cell_type": "code",
      "source": [
        "a=int(input(\"enter value of a\"))\n",
        "b=int(input(\"enter value of b\"))\n",
        "\n",
        "print(\"sum: \",a+b)\n",
        "print(\"sum: \",a-b)\n",
        "print(\"multiply: \",a*b)\n",
        "if b!=0:\n",
        "  print(\"division: \",a/b)\n",
        "else:\n",
        "  print(\"division not possible\")0"
      ],
      "metadata": {
        "colab": {
          "base_uri": "https://localhost:8080/"
        },
        "id": "aKISTAwGYFrW",
        "outputId": "a1c62776-1963-4a82-aa4b-35514bf40115"
      },
      "execution_count": null,
      "outputs": [
        {
          "output_type": "stream",
          "name": "stdout",
          "text": [
            "enter value of a5\n",
            "enter value of b0\n",
            "sum:  5\n",
            "sum:  5\n",
            "multiply:  0\n",
            "division not possible\n"
          ]
        }
      ]
    },
    {
      "cell_type": "code",
      "source": [
        "celsius=float(input(\"enter the temp in celsius\"))\n",
        "fahrenheit=(celsius*9/5)+32\n",
        "print(fahrenheit,)\n"
      ],
      "metadata": {
        "colab": {
          "base_uri": "https://localhost:8080/"
        },
        "id": "w8G-JwoHaqAa",
        "outputId": "a5d70d1c-0985-4057-f26f-bfab03d6b194"
      },
      "execution_count": null,
      "outputs": [
        {
          "output_type": "stream",
          "name": "stdout",
          "text": [
            "enter the temp in celsius5\n",
            "41.0\n"
          ]
        }
      ]
    },
    {
      "cell_type": "code",
      "source": [
        "total_days=int(input(\"enter the total days\"))\n",
        "years=total_days/365\n",
        "days=total_days%365\n",
        "weeks=days/7\n",
        "day=days%7\n",
        "\n",
        "print(years)\n",
        "print(days)\n",
        "print(weeks)\n",
        "print(day)"
      ],
      "metadata": {
        "colab": {
          "base_uri": "https://localhost:8080/"
        },
        "id": "aWykqaTOa_qN",
        "outputId": "15629537-16bd-4673-fba4-debee089d4a6"
      },
      "execution_count": null,
      "outputs": [
        {
          "output_type": "stream",
          "name": "stdout",
          "text": [
            "enter the total days 988\n",
            "2.706849315068493\n",
            "258\n",
            "36.857142857142854\n",
            "6\n"
          ]
        }
      ]
    },
    {
      "cell_type": "code",
      "source": [
        "p=float(input(\"enter the principle\"))\n",
        "r=float(input(\"enter the rate\"))\n",
        "t=float(input(\"enter the time\"))\n",
        "\n",
        "si=(p*r*t)/100\n",
        "print(si)\n",
        "ci=p*(1+(r/100))**t-p\n",
        "print(ci)"
      ],
      "metadata": {
        "colab": {
          "base_uri": "https://localhost:8080/"
        },
        "id": "t5E1s695dAw5",
        "outputId": "8ba37394-c6db-4c86-d317-ecf5708e153c"
      },
      "execution_count": null,
      "outputs": [
        {
          "output_type": "stream",
          "name": "stdout",
          "text": [
            "enter the principle 100\n",
            "enter the rate  5\n",
            "enter the time  6\n",
            "30.0\n",
            "34.00956406250003\n"
          ]
        }
      ]
    },
    {
      "cell_type": "code",
      "source": [
        "a=int(input(\"enter value of a\"))\n",
        "b=int(input(\"enter value of b\"))\n",
        "\n",
        "print(f\"bitwise and : {a&b}\")\n",
        "print(f\"bitwise or : {a|b}\")\n",
        "print(f\"bitwise xor : {a^b}\")"
      ],
      "metadata": {
        "colab": {
          "base_uri": "https://localhost:8080/"
        },
        "id": "SGrDn138enQe",
        "outputId": "24b60e08-ca9a-4c01-f002-3ab6b71b6fd4"
      },
      "execution_count": null,
      "outputs": [
        {
          "output_type": "stream",
          "name": "stdout",
          "text": [
            "enter value of a 5\n",
            "enter value of b6\n",
            "bitwise and : 4\n",
            "bitwise or : 7\n",
            "bitwise xor : 3\n"
          ]
        }
      ]
    },
    {
      "cell_type": "code",
      "source": [
        "a=int(input(\"enter value of a\"))\n",
        "b=int(input(\"enter value of b\"))\n",
        "c=int(input(\"enter value of c\"))\n",
        "\n",
        "max=a if(a>b and a>c) else (b if b>c else c)\n",
        "min=a if(a<b and a<c) else (b if b<c else c)\n",
        "\n",
        "print(\"maximum num\", max)\n",
        "print(\"minimum num\", min)\n"
      ],
      "metadata": {
        "colab": {
          "base_uri": "https://localhost:8080/"
        },
        "id": "PKA6J2jDiOZm",
        "outputId": "4b21124a-d3b2-448b-87d1-15febd4a1776"
      },
      "execution_count": null,
      "outputs": [
        {
          "output_type": "stream",
          "name": "stdout",
          "text": [
            "enter value of a  25\n",
            "enter value of b  45\n",
            "enter value of c  10\n",
            "maximum num 45\n",
            "minimum num 10\n"
          ]
        }
      ]
    },
    {
      "cell_type": "code",
      "source": [
        "a=3\n",
        "b='2'\n",
        "c=int(b)\n",
        "print(a+c)"
      ],
      "metadata": {
        "colab": {
          "base_uri": "https://localhost:8080/"
        },
        "id": "-Xz1HTGGj2e_",
        "outputId": "28af8208-9be8-494e-d211-353f5e82f3b1"
      },
      "execution_count": null,
      "outputs": [
        {
          "output_type": "stream",
          "name": "stdout",
          "text": [
            "5\n"
          ]
        }
      ]
    },
    {
      "cell_type": "code",
      "source": [
        "# 1. Find the sum and average of elements in a list containing integer values\n",
        "numbers = list(map(int, input(\"Enter a list of integers separated by spaces: \").split()))\n",
        "total = sum(numbers)\n",
        "average = total / len(numbers) if numbers else 0\n",
        "print(f\"Sum: {total}, Average: {average}\")\n",
        "\n",
        "# 2. Find the sum and average of the first n natural numbers\n",
        "n = int(input(\"Enter a number (n) to find the sum and average of the first n natural numbers: \"))\n",
        "sum_n = n * (n + 1) // 2\n",
        "average_n = sum_n / n if n > 0 else 0\n",
        "print(f\"Sum of first {n} natural numbers: {sum_n}, Average: {average_n}\")\n",
        "\n",
        "# 3. Find elements that appear an odd number of times in a list\n",
        "lst = list(map(int, input(\"Enter a list of integers separated by spaces: \").split()))\n",
        "from collections import Counter\n",
        "frequency = Counter(lst)\n",
        "odd_elements = [key for key, value in frequency.items() if value % 2 != 0]\n",
        "print(f\"Elements appearing an odd number of times: {odd_elements}\")\n",
        "\n",
        "# 4. Merge two lists and find the even numbers\n",
        "list1 = list(map(int, input(\"Enter the first list of integers separated by spaces: \").split()))\n",
        "list2 = list(map(int, input(\"Enter the second list of integers separated by spaces: \").split()))\n",
        "merged_list = list1 + list2\n",
        "even_numbers = [num for num in merged_list if num % 2 == 0]\n",
        "print(f\"Even numbers from merged list: {even_numbers}\")\n",
        "\n"
      ],
      "metadata": {
        "colab": {
          "base_uri": "https://localhost:8080/"
        },
        "id": "Y5QVOtZG4N4c",
        "outputId": "19abcf20-15c3-4d5d-8b61-a6eb8dc98781"
      },
      "execution_count": null,
      "outputs": [
        {
          "output_type": "stream",
          "name": "stdout",
          "text": [
            "Sum: 19, Average: 4.75\n",
            "Sum of first 5 natural numbers: 15, Average: 3.0\n",
            "Elements appearing an odd number of times: [5, 9, 7, 12, 3]\n",
            "Enter the first list of integers separated by spaces:  1 1 2 3 3 3 4\n",
            "Even numbers from merged list: [2, 4, 2, 4, 6]\n"
          ]
        }
      ]
    },
    {
      "cell_type": "code",
      "source": [
        "text = \"Haldia Institute of Technology\"\n",
        "for char in text:\n",
        "    if char == 's':\n",
        "        print(\"Encountered 's': Using continue\")\n",
        "        continue  # Skip 's' and move to the next iteration\n",
        "    elif char == 't':\n",
        "        print(\"Encountered 't': Using break\")\n",
        "        break  # Stop the loop when 't' is found\n",
        "    elif char == ' ':\n",
        "        pass  # Do nothing for spaces\n",
        "    else:\n",
        "        print(char)\n"
      ],
      "metadata": {
        "colab": {
          "base_uri": "https://localhost:8080/"
        },
        "id": "ON1WwRlwSFXK",
        "outputId": "e836ea9a-fa92-404a-d5ed-dad0a499ebec"
      },
      "execution_count": null,
      "outputs": [
        {
          "output_type": "stream",
          "name": "stdout",
          "text": [
            "H\n",
            "a\n",
            "l\n",
            "d\n",
            "i\n",
            "a\n",
            "I\n",
            "n\n",
            "Encountered 's': Using continue\n",
            "Encountered 't': Using break\n"
          ]
        }
      ]
    },
    {
      "cell_type": "code",
      "source": [
        "string = input(\"Enter a string: \")\n",
        "print(\"Index-wise characters (positive and negative):\")\n",
        "for i in range(len(string)):\n",
        "    print(f\"Character at index {i} ({-len(string) + i}): {string[i]}\")\n",
        "\n",
        "\n"
      ],
      "metadata": {
        "colab": {
          "base_uri": "https://localhost:8080/"
        },
        "id": "BCDD2Ju91aNJ",
        "outputId": "2edca152-3d38-41fb-a2b7-cb1e2bfffd96"
      },
      "execution_count": null,
      "outputs": [
        {
          "output_type": "stream",
          "name": "stdout",
          "text": [
            "Enter a string: bhg\n",
            "Index-wise characters (positive and negative):\n",
            "Character at index 0 (-3): b\n",
            "Character at index 1 (-2): h\n",
            "Character at index 2 (-1): g\n"
          ]
        }
      ]
    },
    {
      "cell_type": "code",
      "source": [
        "string = input(\"Enter a string: \")\n",
        "\n",
        "odd_positions = string[1::2]\n",
        "even_positions = string[0::2]\n",
        "\n",
        "print(\"Characters at odd positions:\", odd_positions)\n",
        "print(\"Characters at even positions:\", even_positions)\n"
      ],
      "metadata": {
        "colab": {
          "base_uri": "https://localhost:8080/"
        },
        "id": "v8RZXdH2UbP7",
        "outputId": "cddae67e-1d7e-4e20-fa64-39c478fb306c"
      },
      "execution_count": null,
      "outputs": [
        {
          "output_type": "stream",
          "name": "stdout",
          "text": [
            "Enter a string: fewsvf\n",
            "Characters at odd positions: esf\n",
            "Characters at even positions: fwv\n"
          ]
        }
      ]
    },
    {
      "cell_type": "code",
      "source": [
        "s=\"programming\"\n",
        "result=\"\"\n",
        "\n",
        "for char in s:\n",
        "  if char not in result:\n",
        "     result+=char\n",
        "print(result)"
      ],
      "metadata": {
        "colab": {
          "base_uri": "https://localhost:8080/"
        },
        "id": "lbG1mb-MVJxX",
        "outputId": "7468cf5e-b1f2-4c74-fdfe-d7efca8f1a3c"
      },
      "execution_count": null,
      "outputs": [
        {
          "output_type": "stream",
          "name": "stdout",
          "text": [
            "progamin\n"
          ]
        }
      ]
    },
    {
      "cell_type": "code",
      "source": [
        "main_string = input(\"Enter the main string: \")\n",
        "substring = input(\"Enter the substring to search: \")\n",
        "\n",
        "positions = [i for i in range(len(main_string)) if main_string.startswith(substring, i)]\n",
        "if positions:\n",
        "    print(f\"Substring found at positions: {positions}\")\n",
        "else:\n",
        "    print(\"Substring not found.\")\n"
      ],
      "metadata": {
        "colab": {
          "base_uri": "https://localhost:8080/"
        },
        "id": "IBT3X3MWVfRP",
        "outputId": "be986741-ed9f-4b90-9255-5346612f219c"
      },
      "execution_count": null,
      "outputs": [
        {
          "output_type": "stream",
          "name": "stdout",
          "text": [
            "Enter the main string: simram\n",
            "Enter the substring to search: im\n",
            "Substring found at positions: [1]\n"
          ]
        }
      ]
    },
    {
      "cell_type": "code",
      "source": [
        "num = int(input(\"Enter a number: \"))\n",
        "sum_of_powers = sum(int(digit) ** len(str(num)) for digit in str(num))\n",
        "if num == sum_of_powers:\n",
        "    print(f\"{num} is an Armstrong number.\")\n",
        "else:\n",
        "    print(f\"{num} is not an Armstrong number.\")\n"
      ],
      "metadata": {
        "colab": {
          "base_uri": "https://localhost:8080/"
        },
        "id": "dgxT5U_eWsIt",
        "outputId": "82aebce4-1cc6-4955-a15c-dfb304808783"
      },
      "execution_count": null,
      "outputs": [
        {
          "output_type": "stream",
          "name": "stdout",
          "text": [
            "Enter a number: 153\n",
            "153 is an Armstrong number.\n"
          ]
        }
      ]
    },
    {
      "cell_type": "code",
      "source": [
        "n = int(input(\"Enter the number of terms: \"))\n",
        "a, b = 0, 1\n",
        "print(\"Fibonacci series:\")\n",
        "for _ in range(n):\n",
        "    print(a, end=\" \")\n",
        "    a, b = b, a + b\n"
      ],
      "metadata": {
        "colab": {
          "base_uri": "https://localhost:8080/"
        },
        "id": "fOXA7R5GXj99",
        "outputId": "21a6b9e9-275f-4c8f-9900-808890b80efa"
      },
      "execution_count": null,
      "outputs": [
        {
          "output_type": "stream",
          "name": "stdout",
          "text": [
            "Enter the number of terms: 5\n",
            "Fibonacci series:\n",
            "0 1 1 2 3 "
          ]
        }
      ]
    },
    {
      "cell_type": "code",
      "source": [
        "a = int(input(\"Enter the first number: \"))\n",
        "b = int(input(\"Enter the second number: \"))\n",
        "\n",
        "gcd = math.gcd(a, b)\n",
        "lcm = abs(a * b)\n",
        "\n",
        "print(f\"GCD: {gcd}, LCM: {lcm}\")\n"
      ],
      "metadata": {
        "colab": {
          "base_uri": "https://localhost:8080/",
          "height": 245
        },
        "id": "3RoEHZUIX3gI",
        "outputId": "3734acef-9be8-44a5-d1a0-1e227069b4a9"
      },
      "execution_count": null,
      "outputs": [
        {
          "name": "stdout",
          "output_type": "stream",
          "text": [
            "Enter the first number: 5\n",
            "Enter the second number: 6\n"
          ]
        },
        {
          "output_type": "error",
          "ename": "NameError",
          "evalue": "name 'math' is not defined",
          "traceback": [
            "\u001b[0;31m---------------------------------------------------------------------------\u001b[0m",
            "\u001b[0;31mNameError\u001b[0m                                 Traceback (most recent call last)",
            "\u001b[0;32m<ipython-input-56-39ca9d30aebc>\u001b[0m in \u001b[0;36m<cell line: 0>\u001b[0;34m()\u001b[0m\n\u001b[1;32m      2\u001b[0m \u001b[0mb\u001b[0m \u001b[0;34m=\u001b[0m \u001b[0mint\u001b[0m\u001b[0;34m(\u001b[0m\u001b[0minput\u001b[0m\u001b[0;34m(\u001b[0m\u001b[0;34m\"Enter the second number: \"\u001b[0m\u001b[0;34m)\u001b[0m\u001b[0;34m)\u001b[0m\u001b[0;34m\u001b[0m\u001b[0;34m\u001b[0m\u001b[0m\n\u001b[1;32m      3\u001b[0m \u001b[0;34m\u001b[0m\u001b[0m\n\u001b[0;32m----> 4\u001b[0;31m \u001b[0mgcd\u001b[0m \u001b[0;34m=\u001b[0m \u001b[0mmath\u001b[0m\u001b[0;34m.\u001b[0m\u001b[0mgcd\u001b[0m\u001b[0;34m(\u001b[0m\u001b[0ma\u001b[0m\u001b[0;34m,\u001b[0m \u001b[0mb\u001b[0m\u001b[0;34m)\u001b[0m\u001b[0;34m\u001b[0m\u001b[0;34m\u001b[0m\u001b[0m\n\u001b[0m\u001b[1;32m      5\u001b[0m \u001b[0mlcm\u001b[0m \u001b[0;34m=\u001b[0m \u001b[0mabs\u001b[0m\u001b[0;34m(\u001b[0m\u001b[0ma\u001b[0m \u001b[0;34m*\u001b[0m \u001b[0mb\u001b[0m\u001b[0;34m)\u001b[0m\u001b[0;34m\u001b[0m\u001b[0;34m\u001b[0m\u001b[0m\n\u001b[1;32m      6\u001b[0m \u001b[0;34m\u001b[0m\u001b[0m\n",
            "\u001b[0;31mNameError\u001b[0m: name 'math' is not defined"
          ]
        }
      ]
    },
    {
      "cell_type": "code",
      "source": [
        "numbers = list(map(int, input(\"Enter numbers separated by space: \").split()))\n",
        "value = int(input(\"Enter the value to search: \"))\n",
        "\n",
        "for i, num in enumerate(numbers):\n",
        "    if num == value:\n",
        "        print(f\"Value found at index {i}\")\n",
        "        break\n",
        "else:\n",
        "    print(\"Value not found.\")\n"
      ],
      "metadata": {
        "colab": {
          "base_uri": "https://localhost:8080/"
        },
        "id": "MfkQtNbHax7G",
        "outputId": "cb83334b-8831-433d-8b6e-81a9a3dd462e"
      },
      "execution_count": null,
      "outputs": [
        {
          "output_type": "stream",
          "name": "stdout",
          "text": [
            "Enter numbers separated by space: 5 6 9\n",
            "Enter the value to search: 5\n",
            "Value found at index 0\n"
          ]
        }
      ]
    },
    {
      "cell_type": "code",
      "source": [
        "mport re\n",
        "password=input(\"enter password\")\n",
        "if(6<=len(password)<=12)and\n",
        "  re.search(\"[a-z]\",password)and\n",
        "   re.search(\"[A-Z]\",password)and re.search(\"[0-9]\",password)and re.search(\"[$ # @]\",password):\n",
        "   print(\"valid password\")"
      ],
      "metadata": {
        "id": "nXZSLycwhWqS"
      },
      "execution_count": null,
      "outputs": []
    },
    {
      "cell_type": "code",
      "source": [
        "import re\n",
        "password=input(\"enter password\")\n",
        "if(6<=len(password)<=12) and\n",
        "  re.search(\"[a-z]\",password)and\n",
        "  re.search(\"[A-Z]\",password)and\n",
        "  re.search(\"[0-9]\",password)and\n",
        "  re.search(\"[$ # @]\",password):\n",
        "  print(\"valid password\")\n",
        "else:\n",
        "  print(\"invalid\")"
      ],
      "metadata": {
        "colab": {
          "base_uri": "https://localhost:8080/",
          "height": 106
        },
        "id": "mLZm8Nh_ij_9",
        "outputId": "c3af974e-b6b8-4ec1-eddc-9daf9ace8e60"
      },
      "execution_count": null,
      "outputs": [
        {
          "output_type": "error",
          "ename": "SyntaxError",
          "evalue": "invalid syntax (<ipython-input-65-25837dc51270>, line 3)",
          "traceback": [
            "\u001b[0;36m  File \u001b[0;32m\"<ipython-input-65-25837dc51270>\"\u001b[0;36m, line \u001b[0;32m3\u001b[0m\n\u001b[0;31m    if(6<=len(password)<=12) and\u001b[0m\n\u001b[0m                                 ^\u001b[0m\n\u001b[0;31mSyntaxError\u001b[0m\u001b[0;31m:\u001b[0m invalid syntax\n"
          ]
        }
      ]
    },
    {
      "cell_type": "code",
      "source": [
        "num = input(\"Enter a number: \")\n",
        "if num == num[::-1]:\n",
        "    print(f\"{num} is a palindrome.\")\n",
        "else:\n",
        "    print(f\"{num} is not a palindrome.\")\n"
      ],
      "metadata": {
        "colab": {
          "base_uri": "https://localhost:8080/"
        },
        "id": "s7z2-oLFZQpN",
        "outputId": "6031d827-01c1-460e-9596-774bae2edb8b"
      },
      "execution_count": null,
      "outputs": [
        {
          "output_type": "stream",
          "name": "stdout",
          "text": [
            "Enter a number: 121\n",
            "121 is a palindrome.\n"
          ]
        }
      ]
    },
    {
      "cell_type": "code",
      "source": [
        "n = int(input(\"Enter the number of lines: \"))\n",
        "for i in range(1, n + 1):\n",
        "    print(\" \" * (n - i) + \"* \" * i)\n"
      ],
      "metadata": {
        "colab": {
          "base_uri": "https://localhost:8080/"
        },
        "id": "AC75vjlwaKSA",
        "outputId": "77099dff-e9a2-4b68-dab7-1446d0827701"
      },
      "execution_count": null,
      "outputs": [
        {
          "output_type": "stream",
          "name": "stdout",
          "text": [
            "Enter the number of lines: 5\n",
            "    * \n",
            "   * * \n",
            "  * * * \n",
            " * * * * \n",
            "* * * * * \n"
          ]
        }
      ]
    },
    {
      "cell_type": "code",
      "source": [
        "import re\n",
        "\n",
        "password = input(\"Enter password: \")\n",
        "\n",
        "# Check conditions for valid password\n",
        "if (6 <= len(password) <= 12) and \\\n",
        "   re.search(\"[a-z]\", password) and \\\n",
        "   re.search(\"[A-Z]\", password) and \\\n",
        "   re.search(\"[0-9]\", password) and \\\n",
        "   re.search(\"[$#@]\", password):\n",
        "    print(\"Valid password\")\n",
        "else:\n",
        "    print(\"Invalid password\")\n"
      ],
      "metadata": {
        "colab": {
          "base_uri": "https://localhost:8080/"
        },
        "id": "wqp6U7Xkjt80",
        "outputId": "ee3ded06-1432-44b5-eb34-ebf3f05d09b4"
      },
      "execution_count": null,
      "outputs": [
        {
          "output_type": "stream",
          "name": "stdout",
          "text": [
            "Enter password: gbfv\n",
            "Invalid password\n"
          ]
        }
      ]
    },
    {
      "cell_type": "code",
      "source": [
        "def count_denominations(amount):\n",
        "    denominations = [2000, 500, 100, 50, 20, 10, 5, 2, 1]\n",
        "    for denom in denominations:\n",
        "        count = amount  // denom\n",
        "        if count > 0:\n",
        "            print(f\"₹{denom}: {count} notes\")\n",
        "        amount %= denom\n",
        "\n",
        "# Input amount from the user\n",
        "amount = int(input(\"Enter the amount of money: \"))\n",
        "\n",
        "# Call the function\n",
        "count_denominations(amount)\n"
      ],
      "metadata": {
        "colab": {
          "base_uri": "https://localhost:8080/"
        },
        "id": "hzz-J9STkBsO",
        "outputId": "db7b0073-e70b-4cf2-f109-3687775ff0c5"
      },
      "execution_count": null,
      "outputs": [
        {
          "output_type": "stream",
          "name": "stdout",
          "text": [
            "Enter the amount of money: 575\n",
            "₹500: 1 notes\n",
            "₹50: 1 notes\n",
            "₹20: 1 notes\n",
            "₹5: 1 notes\n"
          ]
        }
      ]
    },
    {
      "cell_type": "code",
      "source": [
        "def count_denominations(amount):\n",
        "  denominations=[]\n",
        "  for denom in denominations:\n",
        "     count=amount//denom\n",
        "     if count>0:\n",
        "      print(f\"\")\n",
        "    amount%=denom"
      ],
      "metadata": {
        "id": "MTe6Or0cljaE"
      },
      "execution_count": null,
      "outputs": []
    },
    {
      "cell_type": "code",
      "source": [
        "# Input amount from the user\n",
        "amount = int(input(\"Enter the amount of money: \"))\n",
        "\n",
        "# List of denominations in descending order\n",
        "denominations = [2000, 500, 100, 50, 20, 10, 5, 2, 1]\n",
        "\n",
        "# Loop through each denomination\n",
        "for denom in denominations:\n",
        "    count = amount // denom\n",
        "    if count > 0:\n",
        "        print(f\"₹{denom}: {count} notes\")\n",
        "    amount %= denom\n"
      ],
      "metadata": {
        "id": "zuXETAuomS-E"
      },
      "execution_count": null,
      "outputs": []
    }
  ]
}